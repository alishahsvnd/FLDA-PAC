{
 "cells": [
  {
   "cell_type": "code",
   "execution_count": 15,
   "metadata": {},
   "outputs": [],
   "source": [
    "import numpy as np\n",
    "from sklearn.datasets import fetch_olivetti_faces\n",
    "import matplotlib.pyplot as plt\n",
    "from scipy.linalg import eigh\n",
    "import os\n"
   ]
  },
  {
   "cell_type": "code",
   "execution_count": 43,
   "metadata": {},
   "outputs": [],
   "source": [
    "from PIL import Image\n",
    "import os\n",
    "\n",
    "folder = 'C:/Users/ALI/Desktop/EDFLA/coil-20-proc/' # replace this with the path to your image folder\n",
    "cropped_folder = 'C:/Users/ALI/Desktop/EDFLA/cropped_images' # replace this with the path to the folder where you want to save the cropped images\n",
    "\n",
    "if not os.path.exists(cropped_folder):\n",
    "    os.makedirs(cropped_folder)\n",
    "\n",
    "target_size = (32, 32)\n",
    "\n",
    "for filename in os.listdir(folder):\n",
    "    with Image.open(os.path.join(folder, filename)) as im:\n",
    "        cropped_im = im.resize(target_size)\n",
    "        cropped_im.save(os.path.join(cropped_folder, filename))\n"
   ]
  },
  {
   "cell_type": "code",
   "execution_count": 48,
   "metadata": {},
   "outputs": [],
   "source": [
    "# Load all images into a list\n",
    "\n",
    "img_path = 'C:/Users/ALI/Desktop/EDFLA/cropped_images/'\n",
    "img_files = [img_path + f for f in os.listdir(img_path) if f.endswith('.png')]\n",
    "img_data = [plt.imread(img_file).reshape(-1) for img_file in img_files]\n",
    "img_data = np.array(img_data)\n",
    "\n",
    "# Load the labels\n",
    "n_classes = 20\n",
    "n_samples_per_class = 72\n",
    "\n",
    "img_labels = np.repeat(np.arange(n_classes), n_samples_per_class)"
   ]
  },
  {
   "cell_type": "code",
   "execution_count": 49,
   "metadata": {},
   "outputs": [
    {
     "name": "stdout",
     "output_type": "stream",
     "text": [
      "(1440, 1024)\n",
      "(1440,)\n"
     ]
    }
   ],
   "source": [
    "print(img_data.shape)\n",
    "print(img_labels.shape)"
   ]
  },
  {
   "cell_type": "code",
   "execution_count": 61,
   "metadata": {},
   "outputs": [
    {
     "data": {
      "image/png": "[encoded data removed]",
      "text/plain": [
       "<Figure size 1000x400 with 10 Axes>"
      ]
     },
     "metadata": {},
     "output_type": "display_data"
    }
   ],
   "source": [
    "# plot the first 10 images\n",
    "fig, ax = plt.subplots(2, 5, figsize=(10, 4))\n",
    "for i in range(10):\n",
    "    ax[i//5, i%5].imshow(img_data[i].reshape(32, 32), cmap='gray')\n",
    "    ax[i//5, i%5].set_title(img_labels[i])\n",
    "    ax[i//5, i%5].axis('off')\n",
    "plt.show()\n"
   ]
  },
  {
   "cell_type": "code",
   "execution_count": 82,
   "metadata": {},
   "outputs": [],
   "source": [
    "def EDFA(X, y):\n",
    "    n, d = X.shape\n",
    "    c = np.unique(y).shape[0]\n",
    "    \n",
    "    # compute the mean vectors for each class\n",
    "    mean_vectors = []\n",
    "    for class_ in range(c):\n",
    "        mean_vectors.append(np.mean(X[y==class_], axis=0))\n",
    "    \n",
    "    # compute the scatter matrices\n",
    "    Sb = np.zeros((d, d))\n",
    "    Sw = np.zeros((d, d))\n",
    "    for class_, mean_vec in enumerate(mean_vectors):\n",
    "        n_samples = X[y==class_].shape[0]\n",
    "        class_scatter = np.zeros((d, d))\n",
    "        for row in X[y==class_]:\n",
    "            row, mean_vec = row.reshape(d, 1), mean_vec.reshape(d, 1)\n",
    "            class_scatter += (row - mean_vec).dot((row - mean_vec).T)\n",
    "        Sw += class_scatter\n",
    "        Sb += n_samples * (mean_vec - mean_vectors[0]).dot((mean_vec - mean_vectors[0]).T)\n",
    "    \n",
    "    # solve the eigenvalue problem\n",
    "    eigenvalues, eigenvectors = eigh((Sb - Sw))\n",
    "    eigenvectors = eigenvectors[:, np.argsort(eigenvalues)[::-1]]\n",
    "    eigenvalues = eigenvalues[np.argsort(eigenvalues)[::-1]]\n",
    "\n",
    "    # get 22 eigenvectors with the largest eigenvalues\n",
    "    W = eigenvectors[:, :22]\n",
    "\n",
    "    \n",
    "    # transform the samples\n",
    "    \n",
    "    return W\n",
    "    "
   ]
  },
  {
   "cell_type": "code",
   "execution_count": 64,
   "metadata": {},
   "outputs": [],
   "source": [
    "def transform(X, W):\n",
    "    Z = X.dot(W)\n",
    "    return Z"
   ]
  },
  {
   "cell_type": "code",
   "execution_count": 87,
   "metadata": {},
   "outputs": [],
   "source": [
    "\n",
    "def train_test(X, y):\n",
    "    \n",
    "    # Total number of samples per class\n",
    "    samples_per_class = 72\n",
    "    # Number of samples for training per class\n",
    "    train_samples = 10\n",
    "\n",
    "    # Load data\n",
    "    all_data =X\n",
    "    all_labels = y\n",
    "\n",
    "    # Split data into training and testing sets\n",
    "    X_train = []\n",
    "    y_train = []\n",
    "    X_test = []\n",
    "    y_test = []\n",
    "\n",
    "    for class_idx in np.unique(all_labels):\n",
    "        class_data = all_data[all_labels == class_idx]\n",
    "        train_indices = np.random.choice(samples_per_class, train_samples, replace=False)\n",
    "        X_train.append(class_data[train_indices])\n",
    "        y_train.append(np.full(train_samples, class_idx))\n",
    "        X_test.append(np.delete(class_data, train_indices, axis=0))\n",
    "        y_test.append(np.full(samples_per_class - train_samples, class_idx))\n",
    "\n",
    "    X_train = np.concatenate(X_train)\n",
    "    y_train = np.concatenate(y_train)\n",
    "    X_test = np.concatenate(X_test)\n",
    "    y_test = np.concatenate(y_test)\n",
    "\n",
    "    return X_train, X_test ,y_train, y_test"
   ]
  },
  {
   "cell_type": "code",
   "execution_count": 97,
   "metadata": {},
   "outputs": [
    {
     "name": "stdout",
     "output_type": "stream",
     "text": [
      "pca recognition rate:  0.8733870967741936\n",
      "lda recognition rate:  0.882258064516129\n",
      "edfa recognition rate:  0.896774193548387\n"
     ]
    }
   ],
   "source": [
    "import numpy as np\n",
    "from sklearn.datasets import fetch_olivetti_faces\n",
    "from sklearn.model_selection import train_test_split\n",
    "from sklearn.decomposition import PCA\n",
    "from sklearn.discriminant_analysis import LinearDiscriminantAnalysis\n",
    "\n",
    "\n",
    "# Split the data into training and test sets\n",
    "X_train, X_test, y_train, y_test = train_test(img_data, img_labels)\n",
    "\n",
    "# Perform PCA on the training data\n",
    "pca = PCA(n_components=75)\n",
    "X_train_pca = pca.fit_transform(X_train)\n",
    "X_test_pca = pca.transform(X_test)\n",
    "\n",
    "# Perform LDA on the training data\n",
    "lda = LinearDiscriminantAnalysis(n_components=19)\n",
    "X_train_lda = lda.fit_transform(X_train, y_train)\n",
    "X_test_lda = lda.transform(X_test)\n",
    "\n",
    "# perform EDFA on the training data\n",
    "W = EDFA(X_train, y_train)\n",
    "X_train_edfa = transform(X_train, W)\n",
    "X_test_edfa = transform(X_test, W)\n",
    "\n",
    "# Define a function to calculate the recognition rate\n",
    "def recognition_rate(X_train, y_train, X_test, y_test):\n",
    "    recognition_rate = 0\n",
    "    for i in range(len(y_test)):\n",
    "        distances = np.sum((X_train - X_test[i, :]) ** 2, axis=1)\n",
    "        index = np.argmin(distances)\n",
    "        if y_train[index] == y_test[i]:\n",
    "            recognition_rate += 1\n",
    "    return recognition_rate / len(y_test)\n",
    "\n",
    "# Calculate the recognition rate of PCA\n",
    "pca_recognition_rate = recognition_rate(X_train_pca, y_train, X_test_pca, y_test)\n",
    "\n",
    "# Calculate the recognition rate of LDA\n",
    "lda_recognition_rate = recognition_rate(X_train_lda, y_train, X_test_lda, y_test)\n",
    "\n",
    "# Calculate the recognition rate of EDFA\n",
    "edfa_recognition_rate = recognition_rate(X_train_edfa, y_train, X_test_edfa, y_test)\n",
    "\n",
    "# Compare the Maximum of Average Recognition Rate (MARR)\n",
    "# if pca_recognition_rate > lda_recognition_rate:\n",
    "#     print(\"PCA has a higher Maximum of Average Recognition Rate (MARR)\")\n",
    "# else:\n",
    "#     print(\"LDA has a higher Maximum of Average Recognition Rate (MARR)\")\n",
    "\n",
    "print(\"pca recognition rate: \", pca_recognition_rate)\n",
    "print(\"lda recognition rate: \", lda_recognition_rate)\n",
    "print(\"edfa recognition rate: \", edfa_recognition_rate)\n",
    "\n",
    "\n"
   ]
  }
 ],
 "metadata": {
  "kernelspec": {
   "display_name": "Python 3",
   "language": "python",
   "name": "python3"
  },
  "language_info": {
   "codemirror_mode": {
    "name": "ipython",
    "version": 3
   },
   "file_extension": ".py",
   "mimetype": "text/x-python",
   "name": "python",
   "nbconvert_exporter": "python",
   "pygments_lexer": "ipython3",
   "version": "3.10.6"
  },
  "orig_nbformat": 4,
  "vscode": {
   "interpreter": {
    "hash": "018e254b4fb01f516223ee9e2481361177c4f54e2274d662e41cb14fd09fc37c"
   }
  }
 },
 "nbformat": 4,
 "nbformat_minor": 2
}
